{
 "cells": [
  {
   "cell_type": "markdown",
   "metadata": {},
   "source": [
    "# DBMS Lab Assignment\n",
    "\n"
   ]
  },
  {
   "cell_type": "code",
   "execution_count": 11,
   "metadata": {
    "tags": []
   },
   "outputs": [],
   "source": [
    "! pip install -r requirements.txt "
   ]
  },
  {
   "cell_type": "code",
   "execution_count": 1,
   "metadata": {
    "tags": []
   },
   "outputs": [
    {
     "output_type": "execute_result",
     "data": {
      "text/plain": "Engine(sqlite:///dbms_lab_assginment.db)"
     },
     "metadata": {},
     "execution_count": 1
    }
   ],
   "source": [
    "import sqlalchemy\n",
    "sqlalchemy.create_engine('sqlite:///dbms_lab_assginment.db')\n"
   ]
  },
  {
   "cell_type": "code",
   "execution_count": 2,
   "metadata": {
    "tags": []
   },
   "outputs": [],
   "source": [
    "%load_ext sql\n",
    "%sql sqlite:///dbms_lab_assginment.db"
   ]
  },
  {
   "cell_type": "code",
   "execution_count": 3,
   "metadata": {
    "tags": []
   },
   "outputs": [
    {
     "output_type": "stream",
     "name": "stdout",
     "text": "* sqlite:///dbms_lab_assginment.db\nDone.\n"
    },
    {
     "output_type": "execute_result",
     "data": {
      "text/plain": "[]"
     },
     "metadata": {},
     "execution_count": 3
    }
   ],
   "source": [
    "%%sql \n",
    "CREATE TABLE Employee (\n",
    "    Emp_id  varchar2(5) PRIMARY KEY,                         \n",
    "    F_Name varchar2(15) NOT NULL,\n",
    "    L_Name varchar2(15) NOT NULL, \n",
    "    city varchar(10),\n",
    "    Gender char(1) ,                                                 \n",
    "    Emp_hire_date  date,\n",
    "    Job_code varchar(5),\n",
    "    Supervisor_id  varchar(5),\n",
    "    Dept_no number(4),\n",
    "    CONSTRAINT CHK_gender CHECK (Gender IN ('M', 'm', 'F', 'f')),\n",
    "    CONSTRAINT FK_SupervisorID FOREIGN KEY (Supervisor_id)\n",
    "    REFERENCES Employee(Emp_id),\n",
    "    CONSTRAINT FK_DeptNo FOREIGN KEY (Dept_no)\n",
    "    REFERENCES Department(Dept_no)\n",
    ");"
   ]
  },
  {
   "cell_type": "code",
   "execution_count": 4,
   "metadata": {
    "tags": []
   },
   "outputs": [
    {
     "output_type": "stream",
     "name": "stdout",
     "text": "* sqlite:///dbms_lab_assginment.db\nDone.\n"
    },
    {
     "output_type": "execute_result",
     "data": {
      "text/plain": "[]"
     },
     "metadata": {},
     "execution_count": 4
    }
   ],
   "source": [
    "%%sql \n",
    "CREATE TABLE Department (\n",
    "     DepNo number(4) PRIMARY KEY,\n",
    "     DName varchar(15),\n",
    "     Mgr_id char(9) NOT NULL,\n",
    "     CONSTRAINT U_deptName UNIQUE (DName),\n",
    "     CONSTRAINT FK_MgrID FOREIGN KEY (Mgr_id)\n",
    "     REFERENCES Employee(Emp_id)\n",
    "\n",
    ");"
   ]
  },
  {
   "cell_type": "code",
   "execution_count": 5,
   "metadata": {
    "tags": []
   },
   "outputs": [
    {
     "output_type": "stream",
     "name": "stdout",
     "text": "* sqlite:///dbms_lab_assginment.db\nDone.\n"
    },
    {
     "output_type": "execute_result",
     "data": {
      "text/plain": "[]"
     },
     "metadata": {},
     "execution_count": 5
    }
   ],
   "source": [
    "%%sql \n",
    "CREATE TABLE Project(\n",
    "    PNumber number(5) PRIMARY KEY,\n",
    "    PName varchar(15) NOT NULL,\n",
    "    DepNo number(4),\n",
    "    CONSTRAINT FK_DepNum FOREIGN KEY (DepNo)\n",
    "    REFERENCES Department(DepNo) \n",
    ");"
   ]
  },
  {
   "cell_type": "code",
   "execution_count": 6,
   "metadata": {
    "tags": []
   },
   "outputs": [
    {
     "output_type": "stream",
     "name": "stdout",
     "text": "* sqlite:///dbms_lab_assginment.db\nDone.\n"
    },
    {
     "output_type": "execute_result",
     "data": {
      "text/plain": "[]"
     },
     "metadata": {},
     "execution_count": 6
    }
   ],
   "source": [
    "%%sql \n",
    "CREATE TABLE Works_on (\n",
    "    PNo number(5),\n",
    "    emp_id varchar(5),\n",
    "    CONSTRAINT FK_empID FOREIGN KEY (emp_id)\n",
    "    REFERENCES Employee(Emp_id),\n",
    "    CONSTRAINT FK_prjtnum FOREIGN KEY (PNo)\n",
    "    REFERENCES Project(PNumber)\n",
    ");"
   ]
  },
  {
   "cell_type": "code",
   "execution_count": 7,
   "metadata": {
    "tags": []
   },
   "outputs": [
    {
     "output_type": "stream",
     "name": "stdout",
     "text": "* sqlite:///dbms_lab_assginment.db\nDone.\n"
    },
    {
     "output_type": "execute_result",
     "data": {
      "text/plain": "[]"
     },
     "metadata": {},
     "execution_count": 7
    }
   ],
   "source": [
    "%%sql \n",
    "CREATE TABLE Dependent (\n",
    "     Emp_id varchar(5) PRIMARY KEY,\n",
    "     Dependent_Name varchar(15) NOT NULL,                      \n",
    "     Gender char(1), \n",
    "     CONSTRAINT CHK_gender CHECK (Gender IN ('M', 'm', 'F', 'f')),\n",
    "     CONSTRAINT FK_empID FOREIGN KEY (emp_id)\n",
    "     REFERENCES Employee(Emp_id)\n",
    ");"
   ]
  },
  {
   "cell_type": "code",
   "execution_count": 8,
   "metadata": {
    "tags": []
   },
   "outputs": [
    {
     "output_type": "stream",
     "name": "stdout",
     "text": "* sqlite:///dbms_lab_assginment.db\n6 rows affected.\n"
    },
    {
     "output_type": "execute_result",
     "data": {
      "text/plain": "[]"
     },
     "metadata": {},
     "execution_count": 8
    }
   ],
   "source": [
    "%%sql \n",
    "INSERT INTO Employee\n",
    "('Emp_id','F_Name','L_Name','city','Gender','Emp_hire_date','Job_code','Supervisor_id','Dept_no')\n",
    "VALUES\n",
    "(501,'Saahil','Ali','Indore','M','2018-08-08','INTRN','NA',29),\n",
    "(502,'William','SmithField','NYC','M','2004-06-22','500','WSMGR',44),\n",
    "(503,'Rebeca','Black','Manhattan','F','2017-12-09','500','RBMGR',65),\n",
    "(5,'Jada','Facer','Houston','F','2000-05-15','682','JFMKT',508),\n",
    "(504,'John','Corner','Houston','M','2001-02-15','682','JCMKT',508),\n",
    "(505,'Maria','Smith','Houston','F','2005-07-10','897','MSACT',508);\n"
   ]
  },
  {
   "cell_type": "code",
   "execution_count": 9,
   "metadata": {
    "tags": []
   },
   "outputs": [
    {
     "output_type": "stream",
     "name": "stdout",
     "text": "* sqlite:///dbms_lab_assginment.db\nDone.\n"
    },
    {
     "output_type": "execute_result",
     "data": {
      "text/plain": "[('501', 'Saahil', 'Ali', 'Indore', 'M', '2018-08-08', 'INTRN', 'NA', 29),\n ('502', 'William', 'SmithField', 'NYC', 'M', '2004-06-22', '500', 'WSMGR', 44),\n ('503', 'Rebeca', 'Black', 'Manhattan', 'F', '2017-12-09', '500', 'RBMGR', 65),\n ('5', 'Jada', 'Facer', 'Houston', 'F', '2000-05-15', '682', 'JFMKT', 508),\n ('504', 'John', 'Corner', 'Houston', 'M', '2001-02-15', '682', 'JCMKT', 508),\n ('505', 'Maria', 'Smith', 'Houston', 'F', '2005-07-10', '897', 'MSACT', 508)]",
      "text/html": "<table>\n    <tr>\n        <th>Emp_id</th>\n        <th>F_Name</th>\n        <th>L_Name</th>\n        <th>city</th>\n        <th>Gender</th>\n        <th>Emp_hire_date</th>\n        <th>Job_code</th>\n        <th>Supervisor_id</th>\n        <th>Dept_no</th>\n    </tr>\n    <tr>\n        <td>501</td>\n        <td>Saahil</td>\n        <td>Ali</td>\n        <td>Indore</td>\n        <td>M</td>\n        <td>2018-08-08</td>\n        <td>INTRN</td>\n        <td>NA</td>\n        <td>29</td>\n    </tr>\n    <tr>\n        <td>502</td>\n        <td>William</td>\n        <td>SmithField</td>\n        <td>NYC</td>\n        <td>M</td>\n        <td>2004-06-22</td>\n        <td>500</td>\n        <td>WSMGR</td>\n        <td>44</td>\n    </tr>\n    <tr>\n        <td>503</td>\n        <td>Rebeca</td>\n        <td>Black</td>\n        <td>Manhattan</td>\n        <td>F</td>\n        <td>2017-12-09</td>\n        <td>500</td>\n        <td>RBMGR</td>\n        <td>65</td>\n    </tr>\n    <tr>\n        <td>5</td>\n        <td>Jada</td>\n        <td>Facer</td>\n        <td>Houston</td>\n        <td>F</td>\n        <td>2000-05-15</td>\n        <td>682</td>\n        <td>JFMKT</td>\n        <td>508</td>\n    </tr>\n    <tr>\n        <td>504</td>\n        <td>John</td>\n        <td>Corner</td>\n        <td>Houston</td>\n        <td>M</td>\n        <td>2001-02-15</td>\n        <td>682</td>\n        <td>JCMKT</td>\n        <td>508</td>\n    </tr>\n    <tr>\n        <td>505</td>\n        <td>Maria</td>\n        <td>Smith</td>\n        <td>Houston</td>\n        <td>F</td>\n        <td>2005-07-10</td>\n        <td>897</td>\n        <td>MSACT</td>\n        <td>508</td>\n    </tr>\n</table>"
     },
     "metadata": {},
     "execution_count": 9
    }
   ],
   "source": [
    "%%sql\n",
    "SELECT * FROM Employee "
   ]
  },
  {
   "cell_type": "code",
   "execution_count": 10,
   "metadata": {
    "tags": []
   },
   "outputs": [
    {
     "output_type": "stream",
     "name": "stdout",
     "text": "* sqlite:///dbms_lab_assginment.db\n4 rows affected.\n"
    },
    {
     "output_type": "execute_result",
     "data": {
      "text/plain": "[]"
     },
     "metadata": {},
     "execution_count": 10
    }
   ],
   "source": [
    "%%sql \n",
    "INSERT INTO Department\n",
    "('DepNo','DName','Mgr_id')\n",
    "VALUES \n",
    "(29,'InternsDept','501'),\n",
    "(44,'Management','502'),\n",
    "(65,'Logistics','503'),\n",
    "(508,'Marketting','5');\n",
    "     "
   ]
  },
  {
   "cell_type": "code",
   "execution_count": 11,
   "metadata": {
    "tags": []
   },
   "outputs": [
    {
     "output_type": "stream",
     "name": "stdout",
     "text": "* sqlite:///dbms_lab_assginment.db\nDone.\n"
    },
    {
     "output_type": "execute_result",
     "data": {
      "text/plain": "[(29, 'InternsDept', '501'),\n (44, 'Management', '502'),\n (65, 'Logistics', '503'),\n (508, 'Marketting', '5')]",
      "text/html": "<table>\n    <tr>\n        <th>DepNo</th>\n        <th>DName</th>\n        <th>Mgr_id</th>\n    </tr>\n    <tr>\n        <td>29</td>\n        <td>InternsDept</td>\n        <td>501</td>\n    </tr>\n    <tr>\n        <td>44</td>\n        <td>Management</td>\n        <td>502</td>\n    </tr>\n    <tr>\n        <td>65</td>\n        <td>Logistics</td>\n        <td>503</td>\n    </tr>\n    <tr>\n        <td>508</td>\n        <td>Marketting</td>\n        <td>5</td>\n    </tr>\n</table>"
     },
     "metadata": {},
     "execution_count": 11
    }
   ],
   "source": [
    "%%sql \n",
    "SELECT * FROM Department"
   ]
  },
  {
   "cell_type": "code",
   "execution_count": 12,
   "metadata": {
    "tags": []
   },
   "outputs": [
    {
     "output_type": "stream",
     "name": "stdout",
     "text": "* sqlite:///dbms_lab_assginment.db\n4 rows affected.\n"
    },
    {
     "output_type": "execute_result",
     "data": {
      "text/plain": "[]"
     },
     "metadata": {},
     "execution_count": 12
    }
   ],
   "source": [
    "%%sql \n",
    "INSERT INTO Project\n",
    "('PNumber','PName','DepNo')\n",
    "VALUES\n",
    "(3388,'ProjectF',29),\n",
    "(1495,'Manage',44),\n",
    "(5465,'Shipit',65),\n",
    "(4578,'Sellit',508);     "
   ]
  },
  {
   "cell_type": "code",
   "execution_count": 13,
   "metadata": {
    "tags": []
   },
   "outputs": [
    {
     "output_type": "stream",
     "name": "stdout",
     "text": "* sqlite:///dbms_lab_assginment.db\nDone.\n"
    },
    {
     "output_type": "execute_result",
     "data": {
      "text/plain": "[(3388, 'ProjectF', 29),\n (1495, 'Manage', 44),\n (5465, 'Shipit', 65),\n (4578, 'Sellit', 508)]",
      "text/html": "<table>\n    <tr>\n        <th>PNumber</th>\n        <th>PName</th>\n        <th>DepNo</th>\n    </tr>\n    <tr>\n        <td>3388</td>\n        <td>ProjectF</td>\n        <td>29</td>\n    </tr>\n    <tr>\n        <td>1495</td>\n        <td>Manage</td>\n        <td>44</td>\n    </tr>\n    <tr>\n        <td>5465</td>\n        <td>Shipit</td>\n        <td>65</td>\n    </tr>\n    <tr>\n        <td>4578</td>\n        <td>Sellit</td>\n        <td>508</td>\n    </tr>\n</table>"
     },
     "metadata": {},
     "execution_count": 13
    }
   ],
   "source": [
    "%%sql \n",
    "SELECT * FROM Project"
   ]
  },
  {
   "cell_type": "code",
   "execution_count": 14,
   "metadata": {
    "tags": []
   },
   "outputs": [
    {
     "output_type": "stream",
     "name": "stdout",
     "text": "* sqlite:///dbms_lab_assginment.db\n6 rows affected.\n"
    },
    {
     "output_type": "execute_result",
     "data": {
      "text/plain": "[]"
     },
     "metadata": {},
     "execution_count": 14
    }
   ],
   "source": [
    "%%sql \n",
    "INSERT INTO  Works_on \n",
    "('PNo', 'emp_id')\n",
    "VALUES\n",
    "(4578,'5'),\n",
    "(3388,'501'),\n",
    "(1495,'502'),\n",
    "(5465,'503'),\n",
    "(4578,'504'),\n",
    "(4578,'505');    "
   ]
  },
  {
   "cell_type": "code",
   "execution_count": 15,
   "metadata": {
    "tags": []
   },
   "outputs": [
    {
     "output_type": "stream",
     "name": "stdout",
     "text": "* sqlite:///dbms_lab_assginment.db\nDone.\n"
    },
    {
     "output_type": "execute_result",
     "data": {
      "text/plain": "[(4578, '5'),\n (3388, '501'),\n (1495, '502'),\n (5465, '503'),\n (4578, '504'),\n (4578, '505')]",
      "text/html": "<table>\n    <tr>\n        <th>PNo</th>\n        <th>emp_id</th>\n    </tr>\n    <tr>\n        <td>4578</td>\n        <td>5</td>\n    </tr>\n    <tr>\n        <td>3388</td>\n        <td>501</td>\n    </tr>\n    <tr>\n        <td>1495</td>\n        <td>502</td>\n    </tr>\n    <tr>\n        <td>5465</td>\n        <td>503</td>\n    </tr>\n    <tr>\n        <td>4578</td>\n        <td>504</td>\n    </tr>\n    <tr>\n        <td>4578</td>\n        <td>505</td>\n    </tr>\n</table>"
     },
     "metadata": {},
     "execution_count": 15
    }
   ],
   "source": [
    "%%sql \n",
    "SELECT * FROM Works_on"
   ]
  },
  {
   "cell_type": "code",
   "execution_count": 16,
   "metadata": {
    "tags": []
   },
   "outputs": [
    {
     "output_type": "stream",
     "name": "stdout",
     "text": "* sqlite:///dbms_lab_assginment.db\n6 rows affected.\n"
    },
    {
     "output_type": "execute_result",
     "data": {
      "text/plain": "[]"
     },
     "metadata": {},
     "execution_count": 16
    }
   ],
   "source": [
    "%%sql \n",
    "INSERT INTO Dependent \n",
    "('Emp_id','Dependent_Name','Gender')\n",
    "VALUES\n",
    "('5','Aaron Facer','M'),\n",
    "('501','Naazneen Ali','F'),\n",
    "('502','Robin SmithField','M'),\n",
    "('503','Kurtz Black','M'),\n",
    "('504','Sarah Corner','F'),\n",
    "('505','Will Smith','M');       "
   ]
  },
  {
   "cell_type": "code",
   "execution_count": 17,
   "metadata": {
    "tags": []
   },
   "outputs": [
    {
     "output_type": "stream",
     "name": "stdout",
     "text": "* sqlite:///dbms_lab_assginment.db\nDone.\n"
    },
    {
     "output_type": "execute_result",
     "data": {
      "text/plain": "[('5', 'Aaron Facer', 'M'),\n ('501', 'Naazneen Ali', 'F'),\n ('502', 'Robin SmithField', 'M'),\n ('503', 'Kurtz Black', 'M'),\n ('504', 'Sarah Corner', 'F'),\n ('505', 'Will Smith', 'M')]",
      "text/html": "<table>\n    <tr>\n        <th>Emp_id</th>\n        <th>Dependent_Name</th>\n        <th>Gender</th>\n    </tr>\n    <tr>\n        <td>5</td>\n        <td>Aaron Facer</td>\n        <td>M</td>\n    </tr>\n    <tr>\n        <td>501</td>\n        <td>Naazneen Ali</td>\n        <td>F</td>\n    </tr>\n    <tr>\n        <td>502</td>\n        <td>Robin SmithField</td>\n        <td>M</td>\n    </tr>\n    <tr>\n        <td>503</td>\n        <td>Kurtz Black</td>\n        <td>M</td>\n    </tr>\n    <tr>\n        <td>504</td>\n        <td>Sarah Corner</td>\n        <td>F</td>\n    </tr>\n    <tr>\n        <td>505</td>\n        <td>Will Smith</td>\n        <td>M</td>\n    </tr>\n</table>"
     },
     "metadata": {},
     "execution_count": 17
    }
   ],
   "source": [
    "%%sql \n",
    "SELECT * FROM Dependent"
   ]
  },
  {
   "cell_type": "code",
   "execution_count": null,
   "metadata": {},
   "outputs": [],
   "source": []
  }
 ],
 "metadata": {
  "language_info": {
   "codemirror_mode": {
    "name": "ipython",
    "version": 3
   },
   "file_extension": ".py",
   "mimetype": "text/x-python",
   "name": "python",
   "nbconvert_exporter": "python",
   "pygments_lexer": "ipython3",
   "version": "3.6.10-final"
  },
  "orig_nbformat": 2,
  "kernelspec": {
   "name": "python_defaultSpec_1594386242343",
   "display_name": "Python 3.6.10 64-bit ('sqlenv': conda)"
  }
 },
 "nbformat": 4,
 "nbformat_minor": 2
}